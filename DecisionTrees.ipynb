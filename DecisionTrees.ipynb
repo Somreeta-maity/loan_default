{
 "cells": [
  {
   "cell_type": "code",
   "execution_count": 39,
   "metadata": {},
   "outputs": [],
   "source": [
    "import pandas as pd\n",
    "from pandas_profiling import ProfileReport\n",
    "pd.set_option('display.max_columns',None)\n",
    "pd.set_option('display.max_rows', None)\n",
    "pd.set_option('mode.chained_assignment',None)"
   ]
  },
  {
   "cell_type": "code",
   "execution_count": 40,
   "metadata": {},
   "outputs": [],
   "source": [
    "import pandas as pd\n",
    "import numpy as np "
   ]
  },
  {
   "cell_type": "code",
   "execution_count": 41,
   "metadata": {},
   "outputs": [],
   "source": [
    "import random as randint\n"
   ]
  },
  {
   "cell_type": "code",
   "execution_count": 42,
   "metadata": {},
   "outputs": [],
   "source": [
    "import matplotlib as plt\n",
    "%matplotlib inline\n",
    "import seaborn as sns"
   ]
  },
  {
   "cell_type": "code",
   "execution_count": 43,
   "metadata": {},
   "outputs": [],
   "source": [
    "import scipy as stats"
   ]
  },
  {
   "cell_type": "code",
   "execution_count": 44,
   "metadata": {},
   "outputs": [],
   "source": [
    "from sklearn.preprocessing import LabelEncoder , OneHotEncoder, MinMaxScaler, StandardScaler\n",
    "from sklearn.feature_selection import SelectFromModel\n"
   ]
  },
  {
   "cell_type": "code",
   "execution_count": 45,
   "metadata": {},
   "outputs": [],
   "source": [
    "from sklearn.model_selection import train_test_split\n",
    "from sklearn.linear_model import LogisticRegression"
   ]
  },
  {
   "cell_type": "code",
   "execution_count": 46,
   "metadata": {},
   "outputs": [],
   "source": [
    "from sklearn.ensemble import RandomForestClassifier\n",
    "from xgboost.sklearn import XGBClassifier"
   ]
  },
  {
   "cell_type": "code",
   "execution_count": 47,
   "metadata": {},
   "outputs": [],
   "source": [
    "from sklearn.metrics import classification_report\n",
    "from yellowbrick.classifier import PrecisionRecallCurve\n",
    "from xgboost import to_graphviz, plot_importance"
   ]
  },
  {
   "cell_type": "code",
   "execution_count": 48,
   "metadata": {},
   "outputs": [],
   "source": [
    "from imblearn.over_sampling import SMOTE"
   ]
  },
  {
   "cell_type": "code",
   "execution_count": 49,
   "metadata": {},
   "outputs": [],
   "source": [
    "import warnings \n",
    "warnings.filterwarnings(action=\"ignore\")"
   ]
  },
  {
   "cell_type": "code",
   "execution_count": 50,
   "metadata": {},
   "outputs": [],
   "source": [
    "LINK = 'https://storage.googleapis.com/industryanalytics/LoanDefaultData.csv'"
   ]
  },
  {
   "cell_type": "code",
   "execution_count": 51,
   "metadata": {},
   "outputs": [],
   "source": [
    "def load_default_data(link=LINK):\n",
    "    return pd.read_csv(filepath_or_buffer = link)"
   ]
  },
  {
   "cell_type": "code",
   "execution_count": 52,
   "metadata": {},
   "outputs": [
    {
     "name": "stdout",
     "output_type": "stream",
     "text": [
      "Data Shape:  (887379, 22)\n"
     ]
    },
    {
     "data": {
      "text/html": [
       "<div>\n",
       "<style scoped>\n",
       "    .dataframe tbody tr th:only-of-type {\n",
       "        vertical-align: middle;\n",
       "    }\n",
       "\n",
       "    .dataframe tbody tr th {\n",
       "        vertical-align: top;\n",
       "    }\n",
       "\n",
       "    .dataframe thead th {\n",
       "        text-align: right;\n",
       "    }\n",
       "</style>\n",
       "<table border=\"1\" class=\"dataframe\">\n",
       "  <thead>\n",
       "    <tr style=\"text-align: right;\">\n",
       "      <th></th>\n",
       "      <th>cust_id</th>\n",
       "      <th>year</th>\n",
       "      <th>state</th>\n",
       "      <th>date_issued</th>\n",
       "      <th>date_final</th>\n",
       "      <th>emp_duration</th>\n",
       "      <th>own_type</th>\n",
       "      <th>income_type</th>\n",
       "      <th>app_type</th>\n",
       "      <th>loan_purpose</th>\n",
       "      <th>interest_payments</th>\n",
       "      <th>grade</th>\n",
       "      <th>annual_pay</th>\n",
       "      <th>loan_amount</th>\n",
       "      <th>interest_rate</th>\n",
       "      <th>loan_duration</th>\n",
       "      <th>dti</th>\n",
       "      <th>total_pymnt</th>\n",
       "      <th>total_rec_prncp</th>\n",
       "      <th>recoveries</th>\n",
       "      <th>installment</th>\n",
       "      <th>is_default</th>\n",
       "    </tr>\n",
       "  </thead>\n",
       "  <tbody>\n",
       "    <tr>\n",
       "      <th>0</th>\n",
       "      <td>180675</td>\n",
       "      <td>2007</td>\n",
       "      <td>Andhra Pradesh</td>\n",
       "      <td>01/12/2007</td>\n",
       "      <td>1032009</td>\n",
       "      <td>10.0</td>\n",
       "      <td>MORTGAGE</td>\n",
       "      <td>Low</td>\n",
       "      <td>INDIVIDUAL</td>\n",
       "      <td>debt_consolidation</td>\n",
       "      <td>Low</td>\n",
       "      <td>C</td>\n",
       "      <td>73000</td>\n",
       "      <td>25000</td>\n",
       "      <td>10.91</td>\n",
       "      <td>36 months</td>\n",
       "      <td>22.13</td>\n",
       "      <td>13650.38</td>\n",
       "      <td>8767.32</td>\n",
       "      <td>2207.65</td>\n",
       "      <td>817.41</td>\n",
       "      <td>1</td>\n",
       "    </tr>\n",
       "    <tr>\n",
       "      <th>1</th>\n",
       "      <td>85781</td>\n",
       "      <td>2007</td>\n",
       "      <td>Rajasthan</td>\n",
       "      <td>01/06/2007</td>\n",
       "      <td>1072010</td>\n",
       "      <td>0.5</td>\n",
       "      <td>RENT</td>\n",
       "      <td>Low</td>\n",
       "      <td>INDIVIDUAL</td>\n",
       "      <td>other</td>\n",
       "      <td>Low</td>\n",
       "      <td>C</td>\n",
       "      <td>40000</td>\n",
       "      <td>1400</td>\n",
       "      <td>10.91</td>\n",
       "      <td>36 months</td>\n",
       "      <td>8.61</td>\n",
       "      <td>1663.04</td>\n",
       "      <td>1400.00</td>\n",
       "      <td>0.00</td>\n",
       "      <td>45.78</td>\n",
       "      <td>0</td>\n",
       "    </tr>\n",
       "    <tr>\n",
       "      <th>2</th>\n",
       "      <td>85675</td>\n",
       "      <td>2007</td>\n",
       "      <td>Manipur</td>\n",
       "      <td>01/06/2007</td>\n",
       "      <td>1062010</td>\n",
       "      <td>10.0</td>\n",
       "      <td>RENT</td>\n",
       "      <td>Low</td>\n",
       "      <td>INDIVIDUAL</td>\n",
       "      <td>other</td>\n",
       "      <td>High</td>\n",
       "      <td>E</td>\n",
       "      <td>25000</td>\n",
       "      <td>1000</td>\n",
       "      <td>14.07</td>\n",
       "      <td>36 months</td>\n",
       "      <td>16.27</td>\n",
       "      <td>1231.38</td>\n",
       "      <td>1000.00</td>\n",
       "      <td>0.00</td>\n",
       "      <td>34.21</td>\n",
       "      <td>0</td>\n",
       "    </tr>\n",
       "    <tr>\n",
       "      <th>3</th>\n",
       "      <td>84918</td>\n",
       "      <td>2007</td>\n",
       "      <td>Andhra Pradesh</td>\n",
       "      <td>01/09/2007</td>\n",
       "      <td>1042008</td>\n",
       "      <td>10.0</td>\n",
       "      <td>MORTGAGE</td>\n",
       "      <td>Low</td>\n",
       "      <td>INDIVIDUAL</td>\n",
       "      <td>other</td>\n",
       "      <td>Low</td>\n",
       "      <td>A</td>\n",
       "      <td>65000</td>\n",
       "      <td>5000</td>\n",
       "      <td>7.43</td>\n",
       "      <td>36 months</td>\n",
       "      <td>0.28</td>\n",
       "      <td>5200.44</td>\n",
       "      <td>5000.00</td>\n",
       "      <td>0.00</td>\n",
       "      <td>155.38</td>\n",
       "      <td>0</td>\n",
       "    </tr>\n",
       "    <tr>\n",
       "      <th>4</th>\n",
       "      <td>84670</td>\n",
       "      <td>2007</td>\n",
       "      <td>Arunachal Pradesh</td>\n",
       "      <td>01/06/2007</td>\n",
       "      <td>1082009</td>\n",
       "      <td>10.0</td>\n",
       "      <td>MORTGAGE</td>\n",
       "      <td>High</td>\n",
       "      <td>INDIVIDUAL</td>\n",
       "      <td>other</td>\n",
       "      <td>Low</td>\n",
       "      <td>A</td>\n",
       "      <td>300000</td>\n",
       "      <td>5000</td>\n",
       "      <td>7.75</td>\n",
       "      <td>36 months</td>\n",
       "      <td>5.38</td>\n",
       "      <td>5565.65</td>\n",
       "      <td>5000.00</td>\n",
       "      <td>0.00</td>\n",
       "      <td>156.11</td>\n",
       "      <td>0</td>\n",
       "    </tr>\n",
       "  </tbody>\n",
       "</table>\n",
       "</div>"
      ],
      "text/plain": [
       "   cust_id  year              state date_issued  date_final  emp_duration  \\\n",
       "0   180675  2007     Andhra Pradesh  01/12/2007     1032009          10.0   \n",
       "1    85781  2007          Rajasthan  01/06/2007     1072010           0.5   \n",
       "2    85675  2007            Manipur  01/06/2007     1062010          10.0   \n",
       "3    84918  2007     Andhra Pradesh  01/09/2007     1042008          10.0   \n",
       "4    84670  2007  Arunachal Pradesh  01/06/2007     1082009          10.0   \n",
       "\n",
       "   own_type income_type    app_type        loan_purpose interest_payments  \\\n",
       "0  MORTGAGE         Low  INDIVIDUAL  debt_consolidation               Low   \n",
       "1      RENT         Low  INDIVIDUAL               other               Low   \n",
       "2      RENT         Low  INDIVIDUAL               other              High   \n",
       "3  MORTGAGE         Low  INDIVIDUAL               other               Low   \n",
       "4  MORTGAGE        High  INDIVIDUAL               other               Low   \n",
       "\n",
       "  grade  annual_pay  loan_amount  interest_rate loan_duration    dti  \\\n",
       "0     C       73000        25000          10.91     36 months  22.13   \n",
       "1     C       40000         1400          10.91     36 months   8.61   \n",
       "2     E       25000         1000          14.07     36 months  16.27   \n",
       "3     A       65000         5000           7.43     36 months   0.28   \n",
       "4     A      300000         5000           7.75     36 months   5.38   \n",
       "\n",
       "   total_pymnt  total_rec_prncp  recoveries  installment  is_default  \n",
       "0     13650.38          8767.32     2207.65       817.41           1  \n",
       "1      1663.04          1400.00        0.00        45.78           0  \n",
       "2      1231.38          1000.00        0.00        34.21           0  \n",
       "3      5200.44          5000.00        0.00       155.38           0  \n",
       "4      5565.65          5000.00        0.00       156.11           0  "
      ]
     },
     "execution_count": 52,
     "metadata": {},
     "output_type": "execute_result"
    }
   ],
   "source": [
    "data = load_default_data()\n",
    "print('Data Shape: ',data.shape)\n",
    "data.head()"
   ]
  },
  {
   "cell_type": "code",
   "execution_count": 53,
   "metadata": {},
   "outputs": [
    {
     "name": "stdout",
     "output_type": "stream",
     "text": [
      "Describe your feature Length: 13\n"
     ]
    }
   ],
   "source": [
    "print('Describe your feature Length:' , len(data.describe().columns))"
   ]
  },
  {
   "cell_type": "code",
   "execution_count": 54,
   "metadata": {},
   "outputs": [
    {
     "data": {
      "text/html": [
       "<div>\n",
       "<style scoped>\n",
       "    .dataframe tbody tr th:only-of-type {\n",
       "        vertical-align: middle;\n",
       "    }\n",
       "\n",
       "    .dataframe tbody tr th {\n",
       "        vertical-align: top;\n",
       "    }\n",
       "\n",
       "    .dataframe thead th {\n",
       "        text-align: right;\n",
       "    }\n",
       "</style>\n",
       "<table border=\"1\" class=\"dataframe\">\n",
       "  <thead>\n",
       "    <tr style=\"text-align: right;\">\n",
       "      <th></th>\n",
       "      <th>cust_id</th>\n",
       "      <th>year</th>\n",
       "      <th>date_final</th>\n",
       "      <th>emp_duration</th>\n",
       "      <th>annual_pay</th>\n",
       "      <th>loan_amount</th>\n",
       "      <th>interest_rate</th>\n",
       "      <th>dti</th>\n",
       "      <th>total_pymnt</th>\n",
       "      <th>total_rec_prncp</th>\n",
       "      <th>recoveries</th>\n",
       "      <th>installment</th>\n",
       "      <th>is_default</th>\n",
       "    </tr>\n",
       "  </thead>\n",
       "  <tbody>\n",
       "    <tr>\n",
       "      <th>count</th>\n",
       "      <td>8.873790e+05</td>\n",
       "      <td>887379.000000</td>\n",
       "      <td>8.873790e+05</td>\n",
       "      <td>887379.000000</td>\n",
       "      <td>8.873790e+05</td>\n",
       "      <td>887379.000000</td>\n",
       "      <td>887379.000000</td>\n",
       "      <td>887379.000000</td>\n",
       "      <td>887379.000000</td>\n",
       "      <td>887379.000000</td>\n",
       "      <td>887379.000000</td>\n",
       "      <td>887379.000000</td>\n",
       "      <td>887379.000000</td>\n",
       "    </tr>\n",
       "    <tr>\n",
       "      <th>mean</th>\n",
       "      <td>3.246513e+07</td>\n",
       "      <td>2014.021761</td>\n",
       "      <td>1.047089e+06</td>\n",
       "      <td>6.050564</td>\n",
       "      <td>7.502759e+04</td>\n",
       "      <td>14755.264605</td>\n",
       "      <td>13.246740</td>\n",
       "      <td>18.157039</td>\n",
       "      <td>7558.826684</td>\n",
       "      <td>5757.706424</td>\n",
       "      <td>45.919243</td>\n",
       "      <td>436.717127</td>\n",
       "      <td>0.075987</td>\n",
       "    </tr>\n",
       "    <tr>\n",
       "      <th>std</th>\n",
       "      <td>2.282734e+07</td>\n",
       "      <td>1.261741</td>\n",
       "      <td>4.555149e+04</td>\n",
       "      <td>3.507405</td>\n",
       "      <td>6.469815e+04</td>\n",
       "      <td>8435.455601</td>\n",
       "      <td>4.381867</td>\n",
       "      <td>17.190626</td>\n",
       "      <td>7871.243336</td>\n",
       "      <td>6625.441046</td>\n",
       "      <td>409.693874</td>\n",
       "      <td>244.186593</td>\n",
       "      <td>0.264977</td>\n",
       "    </tr>\n",
       "    <tr>\n",
       "      <th>min</th>\n",
       "      <td>5.473400e+04</td>\n",
       "      <td>2007.000000</td>\n",
       "      <td>1.012008e+06</td>\n",
       "      <td>0.500000</td>\n",
       "      <td>0.000000e+00</td>\n",
       "      <td>500.000000</td>\n",
       "      <td>5.320000</td>\n",
       "      <td>0.000000</td>\n",
       "      <td>0.000000</td>\n",
       "      <td>0.000000</td>\n",
       "      <td>0.000000</td>\n",
       "      <td>15.670000</td>\n",
       "      <td>0.000000</td>\n",
       "    </tr>\n",
       "    <tr>\n",
       "      <th>25%</th>\n",
       "      <td>9.206643e+06</td>\n",
       "      <td>2013.000000</td>\n",
       "      <td>1.012016e+06</td>\n",
       "      <td>3.000000</td>\n",
       "      <td>4.500000e+04</td>\n",
       "      <td>8000.000000</td>\n",
       "      <td>9.990000</td>\n",
       "      <td>11.910000</td>\n",
       "      <td>1914.590000</td>\n",
       "      <td>1200.570000</td>\n",
       "      <td>0.000000</td>\n",
       "      <td>260.705000</td>\n",
       "      <td>0.000000</td>\n",
       "    </tr>\n",
       "    <tr>\n",
       "      <th>50%</th>\n",
       "      <td>3.443327e+07</td>\n",
       "      <td>2014.000000</td>\n",
       "      <td>1.012016e+06</td>\n",
       "      <td>6.050000</td>\n",
       "      <td>6.500000e+04</td>\n",
       "      <td>13000.000000</td>\n",
       "      <td>12.990000</td>\n",
       "      <td>17.650000</td>\n",
       "      <td>4894.999117</td>\n",
       "      <td>3215.320000</td>\n",
       "      <td>0.000000</td>\n",
       "      <td>382.550000</td>\n",
       "      <td>0.000000</td>\n",
       "    </tr>\n",
       "    <tr>\n",
       "      <th>75%</th>\n",
       "      <td>5.490814e+07</td>\n",
       "      <td>2015.000000</td>\n",
       "      <td>1.092015e+06</td>\n",
       "      <td>10.000000</td>\n",
       "      <td>9.000000e+04</td>\n",
       "      <td>20000.000000</td>\n",
       "      <td>16.200000</td>\n",
       "      <td>23.950000</td>\n",
       "      <td>10616.814230</td>\n",
       "      <td>8000.000000</td>\n",
       "      <td>0.000000</td>\n",
       "      <td>572.600000</td>\n",
       "      <td>0.000000</td>\n",
       "    </tr>\n",
       "    <tr>\n",
       "      <th>max</th>\n",
       "      <td>6.861706e+07</td>\n",
       "      <td>2015.000000</td>\n",
       "      <td>1.122015e+06</td>\n",
       "      <td>10.000000</td>\n",
       "      <td>9.500000e+06</td>\n",
       "      <td>35000.000000</td>\n",
       "      <td>28.990000</td>\n",
       "      <td>9999.000000</td>\n",
       "      <td>57777.579870</td>\n",
       "      <td>35000.030000</td>\n",
       "      <td>33520.270000</td>\n",
       "      <td>1445.460000</td>\n",
       "      <td>1.000000</td>\n",
       "    </tr>\n",
       "  </tbody>\n",
       "</table>\n",
       "</div>"
      ],
      "text/plain": [
       "            cust_id           year    date_final   emp_duration    annual_pay  \\\n",
       "count  8.873790e+05  887379.000000  8.873790e+05  887379.000000  8.873790e+05   \n",
       "mean   3.246513e+07    2014.021761  1.047089e+06       6.050564  7.502759e+04   \n",
       "std    2.282734e+07       1.261741  4.555149e+04       3.507405  6.469815e+04   \n",
       "min    5.473400e+04    2007.000000  1.012008e+06       0.500000  0.000000e+00   \n",
       "25%    9.206643e+06    2013.000000  1.012016e+06       3.000000  4.500000e+04   \n",
       "50%    3.443327e+07    2014.000000  1.012016e+06       6.050000  6.500000e+04   \n",
       "75%    5.490814e+07    2015.000000  1.092015e+06      10.000000  9.000000e+04   \n",
       "max    6.861706e+07    2015.000000  1.122015e+06      10.000000  9.500000e+06   \n",
       "\n",
       "         loan_amount  interest_rate            dti    total_pymnt  \\\n",
       "count  887379.000000  887379.000000  887379.000000  887379.000000   \n",
       "mean    14755.264605      13.246740      18.157039    7558.826684   \n",
       "std      8435.455601       4.381867      17.190626    7871.243336   \n",
       "min       500.000000       5.320000       0.000000       0.000000   \n",
       "25%      8000.000000       9.990000      11.910000    1914.590000   \n",
       "50%     13000.000000      12.990000      17.650000    4894.999117   \n",
       "75%     20000.000000      16.200000      23.950000   10616.814230   \n",
       "max     35000.000000      28.990000    9999.000000   57777.579870   \n",
       "\n",
       "       total_rec_prncp     recoveries    installment     is_default  \n",
       "count    887379.000000  887379.000000  887379.000000  887379.000000  \n",
       "mean       5757.706424      45.919243     436.717127       0.075987  \n",
       "std        6625.441046     409.693874     244.186593       0.264977  \n",
       "min           0.000000       0.000000      15.670000       0.000000  \n",
       "25%        1200.570000       0.000000     260.705000       0.000000  \n",
       "50%        3215.320000       0.000000     382.550000       0.000000  \n",
       "75%        8000.000000       0.000000     572.600000       0.000000  \n",
       "max       35000.030000   33520.270000    1445.460000       1.000000  "
      ]
     },
     "execution_count": 54,
     "metadata": {},
     "output_type": "execute_result"
    }
   ],
   "source": [
    "data.describe()"
   ]
  },
  {
   "cell_type": "code",
   "execution_count": 55,
   "metadata": {},
   "outputs": [
    {
     "name": "stdout",
     "output_type": "stream",
     "text": [
      "<class 'pandas.core.frame.DataFrame'>\n",
      "RangeIndex: 887379 entries, 0 to 887378\n",
      "Data columns (total 22 columns):\n",
      " #   Column             Non-Null Count   Dtype  \n",
      "---  ------             --------------   -----  \n",
      " 0   cust_id            887379 non-null  int64  \n",
      " 1   year               887379 non-null  int64  \n",
      " 2   state              887379 non-null  object \n",
      " 3   date_issued        887379 non-null  object \n",
      " 4   date_final         887379 non-null  int64  \n",
      " 5   emp_duration       887379 non-null  float64\n",
      " 6   own_type           887379 non-null  object \n",
      " 7   income_type        887379 non-null  object \n",
      " 8   app_type           887379 non-null  object \n",
      " 9   loan_purpose       887379 non-null  object \n",
      " 10  interest_payments  887379 non-null  object \n",
      " 11  grade              887379 non-null  object \n",
      " 12  annual_pay         887379 non-null  int64  \n",
      " 13  loan_amount        887379 non-null  int64  \n",
      " 14  interest_rate      887379 non-null  float64\n",
      " 15  loan_duration      887379 non-null  object \n",
      " 16  dti                887379 non-null  float64\n",
      " 17  total_pymnt        887379 non-null  float64\n",
      " 18  total_rec_prncp    887379 non-null  float64\n",
      " 19  recoveries         887379 non-null  float64\n",
      " 20  installment        887379 non-null  float64\n",
      " 21  is_default         887379 non-null  int64  \n",
      "dtypes: float64(7), int64(6), object(9)\n",
      "memory usage: 148.9+ MB\n"
     ]
    }
   ],
   "source": [
    "data.info()"
   ]
  },
  {
   "cell_type": "code",
   "execution_count": 56,
   "metadata": {},
   "outputs": [
    {
     "ename": "KeyError",
     "evalue": "'recoveriesloan_amount'",
     "output_type": "error",
     "traceback": [
      "\u001b[1;31m---------------------------------------------------------------------------\u001b[0m",
      "\u001b[1;31mKeyError\u001b[0m                                  Traceback (most recent call last)",
      "\u001b[1;32m~\\anaconda3\\lib\\site-packages\\pandas\\core\\indexes\\base.py\u001b[0m in \u001b[0;36mget_loc\u001b[1;34m(self, key, method, tolerance)\u001b[0m\n\u001b[0;32m   2894\u001b[0m             \u001b[1;32mtry\u001b[0m\u001b[1;33m:\u001b[0m\u001b[1;33m\u001b[0m\u001b[1;33m\u001b[0m\u001b[0m\n\u001b[1;32m-> 2895\u001b[1;33m                 \u001b[1;32mreturn\u001b[0m \u001b[0mself\u001b[0m\u001b[1;33m.\u001b[0m\u001b[0m_engine\u001b[0m\u001b[1;33m.\u001b[0m\u001b[0mget_loc\u001b[0m\u001b[1;33m(\u001b[0m\u001b[0mcasted_key\u001b[0m\u001b[1;33m)\u001b[0m\u001b[1;33m\u001b[0m\u001b[1;33m\u001b[0m\u001b[0m\n\u001b[0m\u001b[0;32m   2896\u001b[0m             \u001b[1;32mexcept\u001b[0m \u001b[0mKeyError\u001b[0m \u001b[1;32mas\u001b[0m \u001b[0merr\u001b[0m\u001b[1;33m:\u001b[0m\u001b[1;33m\u001b[0m\u001b[1;33m\u001b[0m\u001b[0m\n",
      "\u001b[1;32mpandas\\_libs\\index.pyx\u001b[0m in \u001b[0;36mpandas._libs.index.IndexEngine.get_loc\u001b[1;34m()\u001b[0m\n",
      "\u001b[1;32mpandas\\_libs\\index.pyx\u001b[0m in \u001b[0;36mpandas._libs.index.IndexEngine.get_loc\u001b[1;34m()\u001b[0m\n",
      "\u001b[1;32mpandas\\_libs\\hashtable_class_helper.pxi\u001b[0m in \u001b[0;36mpandas._libs.hashtable.PyObjectHashTable.get_item\u001b[1;34m()\u001b[0m\n",
      "\u001b[1;32mpandas\\_libs\\hashtable_class_helper.pxi\u001b[0m in \u001b[0;36mpandas._libs.hashtable.PyObjectHashTable.get_item\u001b[1;34m()\u001b[0m\n",
      "\u001b[1;31mKeyError\u001b[0m: 'recoveriesloan_amount'",
      "\nThe above exception was the direct cause of the following exception:\n",
      "\u001b[1;31mKeyError\u001b[0m                                  Traceback (most recent call last)",
      "\u001b[1;32m<ipython-input-56-740c36243415>\u001b[0m in \u001b[0;36m<module>\u001b[1;34m\u001b[0m\n\u001b[0;32m      8\u001b[0m           'loan_amount', 'recoveries', 'total_pyment','total_rec_prncp', 'year']\n\u001b[0;32m      9\u001b[0m \u001b[1;32mfor\u001b[0m \u001b[0max\u001b[0m \u001b[1;33m,\u001b[0m \u001b[0mcol\u001b[0m\u001b[1;33m,\u001b[0m \u001b[0mcolor\u001b[0m \u001b[1;32min\u001b[0m \u001b[0mzip\u001b[0m\u001b[1;33m(\u001b[0m\u001b[0maxes\u001b[0m\u001b[1;33m.\u001b[0m\u001b[0mflat\u001b[0m\u001b[1;33m,\u001b[0m \u001b[0mcolumns\u001b[0m\u001b[1;33m,\u001b[0m \u001b[0mcolors\u001b[0m\u001b[1;33m)\u001b[0m\u001b[1;33m:\u001b[0m\u001b[1;33m\u001b[0m\u001b[1;33m\u001b[0m\u001b[0m\n\u001b[1;32m---> 10\u001b[1;33m     \u001b[0msns\u001b[0m\u001b[1;33m.\u001b[0m\u001b[0mdistplot\u001b[0m\u001b[1;33m(\u001b[0m\u001b[0ma\u001b[0m\u001b[1;33m=\u001b[0m\u001b[0mdata\u001b[0m\u001b[1;33m[\u001b[0m\u001b[0mcol\u001b[0m\u001b[1;33m]\u001b[0m \u001b[1;33m,\u001b[0m \u001b[0mbins\u001b[0m\u001b[1;33m=\u001b[0m\u001b[1;36m50\u001b[0m\u001b[1;33m,\u001b[0m \u001b[0max\u001b[0m \u001b[1;33m=\u001b[0m \u001b[0max\u001b[0m\u001b[1;33m,\u001b[0m \u001b[0mcolor\u001b[0m\u001b[1;33m=\u001b[0m\u001b[0mcolor\u001b[0m \u001b[1;33m)\u001b[0m\u001b[1;33m\u001b[0m\u001b[1;33m\u001b[0m\u001b[0m\n\u001b[0m\u001b[0;32m     11\u001b[0m     \u001b[0max\u001b[0m\u001b[1;33m.\u001b[0m\u001b[0mset_title\u001b[0m\u001b[1;33m(\u001b[0m\u001b[0mcol\u001b[0m\u001b[1;33m)\u001b[0m\u001b[1;33m\u001b[0m\u001b[1;33m\u001b[0m\u001b[0m\n\u001b[0;32m     12\u001b[0m     \u001b[0mplt\u001b[0m\u001b[1;33m.\u001b[0m\u001b[0msetp\u001b[0m\u001b[1;33m(\u001b[0m\u001b[0maxes\u001b[0m\u001b[1;33m,\u001b[0m \u001b[0myticks\u001b[0m\u001b[1;33m=\u001b[0m\u001b[1;33m[\u001b[0m\u001b[1;33m]\u001b[0m\u001b[1;33m)\u001b[0m\u001b[1;33m\u001b[0m\u001b[1;33m\u001b[0m\u001b[0m\n",
      "\u001b[1;32m~\\anaconda3\\lib\\site-packages\\pandas\\core\\frame.py\u001b[0m in \u001b[0;36m__getitem__\u001b[1;34m(self, key)\u001b[0m\n\u001b[0;32m   2900\u001b[0m             \u001b[1;32mif\u001b[0m \u001b[0mself\u001b[0m\u001b[1;33m.\u001b[0m\u001b[0mcolumns\u001b[0m\u001b[1;33m.\u001b[0m\u001b[0mnlevels\u001b[0m \u001b[1;33m>\u001b[0m \u001b[1;36m1\u001b[0m\u001b[1;33m:\u001b[0m\u001b[1;33m\u001b[0m\u001b[1;33m\u001b[0m\u001b[0m\n\u001b[0;32m   2901\u001b[0m                 \u001b[1;32mreturn\u001b[0m \u001b[0mself\u001b[0m\u001b[1;33m.\u001b[0m\u001b[0m_getitem_multilevel\u001b[0m\u001b[1;33m(\u001b[0m\u001b[0mkey\u001b[0m\u001b[1;33m)\u001b[0m\u001b[1;33m\u001b[0m\u001b[1;33m\u001b[0m\u001b[0m\n\u001b[1;32m-> 2902\u001b[1;33m             \u001b[0mindexer\u001b[0m \u001b[1;33m=\u001b[0m \u001b[0mself\u001b[0m\u001b[1;33m.\u001b[0m\u001b[0mcolumns\u001b[0m\u001b[1;33m.\u001b[0m\u001b[0mget_loc\u001b[0m\u001b[1;33m(\u001b[0m\u001b[0mkey\u001b[0m\u001b[1;33m)\u001b[0m\u001b[1;33m\u001b[0m\u001b[1;33m\u001b[0m\u001b[0m\n\u001b[0m\u001b[0;32m   2903\u001b[0m             \u001b[1;32mif\u001b[0m \u001b[0mis_integer\u001b[0m\u001b[1;33m(\u001b[0m\u001b[0mindexer\u001b[0m\u001b[1;33m)\u001b[0m\u001b[1;33m:\u001b[0m\u001b[1;33m\u001b[0m\u001b[1;33m\u001b[0m\u001b[0m\n\u001b[0;32m   2904\u001b[0m                 \u001b[0mindexer\u001b[0m \u001b[1;33m=\u001b[0m \u001b[1;33m[\u001b[0m\u001b[0mindexer\u001b[0m\u001b[1;33m]\u001b[0m\u001b[1;33m\u001b[0m\u001b[1;33m\u001b[0m\u001b[0m\n",
      "\u001b[1;32m~\\anaconda3\\lib\\site-packages\\pandas\\core\\indexes\\base.py\u001b[0m in \u001b[0;36mget_loc\u001b[1;34m(self, key, method, tolerance)\u001b[0m\n\u001b[0;32m   2895\u001b[0m                 \u001b[1;32mreturn\u001b[0m \u001b[0mself\u001b[0m\u001b[1;33m.\u001b[0m\u001b[0m_engine\u001b[0m\u001b[1;33m.\u001b[0m\u001b[0mget_loc\u001b[0m\u001b[1;33m(\u001b[0m\u001b[0mcasted_key\u001b[0m\u001b[1;33m)\u001b[0m\u001b[1;33m\u001b[0m\u001b[1;33m\u001b[0m\u001b[0m\n\u001b[0;32m   2896\u001b[0m             \u001b[1;32mexcept\u001b[0m \u001b[0mKeyError\u001b[0m \u001b[1;32mas\u001b[0m \u001b[0merr\u001b[0m\u001b[1;33m:\u001b[0m\u001b[1;33m\u001b[0m\u001b[1;33m\u001b[0m\u001b[0m\n\u001b[1;32m-> 2897\u001b[1;33m                 \u001b[1;32mraise\u001b[0m \u001b[0mKeyError\u001b[0m\u001b[1;33m(\u001b[0m\u001b[0mkey\u001b[0m\u001b[1;33m)\u001b[0m \u001b[1;32mfrom\u001b[0m \u001b[0merr\u001b[0m\u001b[1;33m\u001b[0m\u001b[1;33m\u001b[0m\u001b[0m\n\u001b[0m\u001b[0;32m   2898\u001b[0m \u001b[1;33m\u001b[0m\u001b[0m\n\u001b[0;32m   2899\u001b[0m         \u001b[1;32mif\u001b[0m \u001b[0mtolerance\u001b[0m \u001b[1;32mis\u001b[0m \u001b[1;32mnot\u001b[0m \u001b[1;32mNone\u001b[0m\u001b[1;33m:\u001b[0m\u001b[1;33m\u001b[0m\u001b[1;33m\u001b[0m\u001b[0m\n",
      "\u001b[1;31mKeyError\u001b[0m: 'recoveriesloan_amount'"
     ]
    },
    {
     "data": {
      "image/png": "[encoded data removed]",
      "text/plain": [
       "<Figure size 1080x720 with 12 Axes>"
      ]
     },
     "metadata": {
      "needs_background": "light"
     },
     "output_type": "display_data"
    }
   ],
   "source": [
    "import matplotlib.pyplot as plt\n",
    "import random\n",
    "fig , axes = plt.subplots(nrows = 3 ,ncols = 4, sharex = False , figsize = (15, 10))\n",
    "colors = []\n",
    "for i in range(12):\n",
    "  colors.append('#%06x' % random.randint(0, 0xFFFFFF))\n",
    "columns = ['annual_pay', 'date_final','dti', 'emp_duration', 'installment' , 'interest_rate', 'is_default', 'loan_amount', 'recoveries'\n",
    "          'loan_amount', 'recoveries', 'total_pyment','total_rec_prncp', 'year']\n",
    "for ax , col, color in zip(axes.flat, columns, colors):\n",
    "    sns.distplot(a=data[col] , bins=50, ax = ax, color=color )\n",
    "    ax.set_title(col)\n",
    "    plt.setp(axes, yticks=[])\n",
    "    ax.grid(False)\n",
    "plt.tight_layout()\n",
    "plt.show()"
   ]
  },
  {
   "cell_type": "code",
   "execution_count": 57,
   "metadata": {},
   "outputs": [
    {
     "data": {
      "image/png": "[encoded data removed]",
      "text/plain": [
       "<Figure size 1080x576 with 1 Axes>"
      ]
     },
     "metadata": {
      "needs_background": "light"
     },
     "output_type": "display_data"
    }
   ],
   "source": [
    "figure = plt.figure(figsize=[15,8])\n",
    "ax=sns.countplot( x = 'own_type' , data = data ,hue = 'is_default'  , palette=['red', 'blue'] )\n",
    "#total= data.shape[0]\n",
    "for p in ax.patches:\n",
    "    percentage= ('{:.2f}%'.format(100*p.get_height()/total))\n",
    "    x=p.get_x() + p.get_width() / 10\n",
    "    y=p.get_y() + p.get_height() + 2\n",
    "    ax.annotate(percentage, (x, y))\n",
    "plt.yticks=(range(0,500000 , 200000))\n",
    "plt.xlabel('Ownership Type ' , size = 14)\n",
    "plt.legend(labels = ['Not Default' , 'Default'] , loc = 'upper right')\n",
    "plt.title('Frequency occurence of ownwership type' , y = 1.05, size = 16)\n",
    "plt.show()\n",
    "    "
   ]
  },
  {
   "cell_type": "code",
   "execution_count": 72,
   "metadata": {
    "scrolled": true
   },
   "outputs": [
    {
     "name": "stdout",
     "output_type": "stream",
     "text": [
      "Before Filtering Shape: (887379, 22)\n",
      "After Filtering Shape: (887144, 22)\n"
     ]
    }
   ],
   "source": [
    "print('Before Filtering Shape:' , data.shape)\n",
    "data=data[(data['own_type']== 'MORTGAGE') |( data['own_type']== 'RENT') | (data['own_type'] =='OWN')]\n",
    "print('After Filtering Shape:',data.shape)"
   ]
  },
  {
   "cell_type": "code",
   "execution_count": null,
   "metadata": {},
   "outputs": [],
   "source": [
    "#Frequency "
   ]
  },
  {
   "cell_type": "code",
   "execution_count": null,
   "metadata": {},
   "outputs": [],
   "source": []
  },
  {
   "cell_type": "code",
   "execution_count": null,
   "metadata": {},
   "outputs": [],
   "source": []
  }
 ],
 "metadata": {
  "kernelspec": {
   "display_name": "Python 3",
   "language": "python",
   "name": "python3"
  },
  "language_info": {
   "codemirror_mode": {
    "name": "ipython",
    "version": 3
   },
   "file_extension": ".py",
   "mimetype": "text/x-python",
   "name": "python",
   "nbconvert_exporter": "python",
   "pygments_lexer": "ipython3",
   "version": "3.8.5"
  }
 },
 "nbformat": 4,
 "nbformat_minor": 4
}
